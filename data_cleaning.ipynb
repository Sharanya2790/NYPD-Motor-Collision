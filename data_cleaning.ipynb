{
  "nbformat": 4,
  "nbformat_minor": 0,
  "metadata": {
    "colab": {
      "provenance": [],
      "mount_file_id": "10HwAAU6Ejt3NLZQaS0qMKXBATLr_iSLz",
      "authorship_tag": "ABX9TyMQlEJRfI9v4ZisyWySgIz2",
      "include_colab_link": true
    },
    "kernelspec": {
      "name": "python3",
      "display_name": "Python 3"
    },
    "language_info": {
      "name": "python"
    }
  },
  "cells": [
    {
      "cell_type": "markdown",
      "metadata": {
        "id": "view-in-github",
        "colab_type": "text"
      },
      "source": [
        "<a href=\"https://colab.research.google.com/github/LucienCastle/nypd-motor-vehicle-collision/blob/main/data_cleaning.ipynb\" target=\"_parent\"><img src=\"https://colab.research.google.com/assets/colab-badge.svg\" alt=\"Open In Colab\"/></a>"
      ]
    },
    {
      "cell_type": "code",
      "source": [
        "import polars as pl\n",
        "import pandas as pd"
      ],
      "metadata": {
        "id": "dCda3Ne0_j-e"
      },
      "execution_count": 1,
      "outputs": []
    },
    {
      "cell_type": "code",
      "source": [
        "ny_df = pl.read_csv('nypd-motor-vehicle-collision.csv')"
      ],
      "metadata": {
        "id": "duwOQ8cwGi0j"
      },
      "execution_count": null,
      "outputs": []
    },
    {
      "cell_type": "code",
      "source": [
        "ny_df.head()"
      ],
      "metadata": {
        "colab": {
          "base_uri": "https://localhost:8080/",
          "height": 361
        },
        "id": "fJQzUG7TGqEj",
        "outputId": "cab27138-67fa-43bb-ad35-d85a508ca91b"
      },
      "execution_count": null,
      "outputs": [
        {
          "output_type": "execute_result",
          "data": {
            "text/plain": [
              "shape: (5, 29)\n",
              "┌──────────┬──────────┬──────────┬──────────┬───┬────────────┬────────────┬────────────┬────────────┐\n",
              "│ crash_da ┆ crash_ti ┆ borough  ┆ zip_code ┆ … ┆ vehicle_ty ┆ vehicle_ty ┆ vehicle_ty ┆ vehicle_ty │\n",
              "│ te       ┆ me       ┆ ---      ┆ ---      ┆   ┆ pe_code2   ┆ pe_code_3  ┆ pe_code_4  ┆ pe_code_5  │\n",
              "│ ---      ┆ ---      ┆ str      ┆ i64      ┆   ┆ ---        ┆ ---        ┆ ---        ┆ ---        │\n",
              "│ str      ┆ str      ┆          ┆          ┆   ┆ str        ┆ str        ┆ str        ┆ str        │\n",
              "╞══════════╪══════════╪══════════╪══════════╪═══╪════════════╪════════════╪════════════╪════════════╡\n",
              "│ 2021-09- ┆ 2:39     ┆ null     ┆ null     ┆ … ┆ Sedan      ┆ null       ┆ null       ┆ null       │\n",
              "│ 11T00:00 ┆          ┆          ┆          ┆   ┆            ┆            ┆            ┆            │\n",
              "│ :00.000  ┆          ┆          ┆          ┆   ┆            ┆            ┆            ┆            │\n",
              "│ 2022-03- ┆ 11:45    ┆ null     ┆ null     ┆ … ┆ null       ┆ null       ┆ null       ┆ null       │\n",
              "│ 26T00:00 ┆          ┆          ┆          ┆   ┆            ┆            ┆            ┆            │\n",
              "│ :00.000  ┆          ┆          ┆          ┆   ┆            ┆            ┆            ┆            │\n",
              "│ 2022-06- ┆ 6:55     ┆ null     ┆ null     ┆ … ┆ Pick-up    ┆ null       ┆ null       ┆ null       │\n",
              "│ 29T00:00 ┆          ┆          ┆          ┆   ┆ Truck      ┆            ┆            ┆            │\n",
              "│ :00.000  ┆          ┆          ┆          ┆   ┆            ┆            ┆            ┆            │\n",
              "│ 2021-09- ┆ 9:35     ┆ BROOKLYN ┆ 11208    ┆ … ┆ null       ┆ null       ┆ null       ┆ null       │\n",
              "│ 11T00:00 ┆          ┆          ┆          ┆   ┆            ┆            ┆            ┆            │\n",
              "│ :00.000  ┆          ┆          ┆          ┆   ┆            ┆            ┆            ┆            │\n",
              "│ 2021-12- ┆ 8:13     ┆ BROOKLYN ┆ 11233    ┆ … ┆ null       ┆ null       ┆ null       ┆ null       │\n",
              "│ 14T00:00 ┆          ┆          ┆          ┆   ┆            ┆            ┆            ┆            │\n",
              "│ :00.000  ┆          ┆          ┆          ┆   ┆            ┆            ┆            ┆            │\n",
              "└──────────┴──────────┴──────────┴──────────┴───┴────────────┴────────────┴────────────┴────────────┘"
            ],
            "text/html": [
              "<div><style>\n",
              ".dataframe > thead > tr > th,\n",
              ".dataframe > tbody > tr > td {\n",
              "  text-align: right;\n",
              "}\n",
              "</style>\n",
              "<small>shape: (5, 29)</small><table border=\"1\" class=\"dataframe\"><thead><tr><th>crash_date</th><th>crash_time</th><th>borough</th><th>zip_code</th><th>latitude</th><th>longitude</th><th>location</th><th>on_street_name</th><th>off_street_name</th><th>cross_street_name</th><th>number_of_persons_injured</th><th>number_of_persons_killed</th><th>number_of_pedestrians_injured</th><th>number_of_pedestrians_killed</th><th>number_of_cyclist_injured</th><th>number_of_cyclist_killed</th><th>number_of_motorist_injured</th><th>number_of_motorist_killed</th><th>contributing_factor_vehicle_1</th><th>contributing_factor_vehicle_2</th><th>contributing_factor_vehicle_3</th><th>contributing_factor_vehicle_4</th><th>contributing_factor_vehicle_5</th><th>collision_id</th><th>vehicle_type_code1</th><th>vehicle_type_code2</th><th>vehicle_type_code_3</th><th>vehicle_type_code_4</th><th>vehicle_type_code_5</th></tr><tr><td>str</td><td>str</td><td>str</td><td>i64</td><td>f64</td><td>f64</td><td>str</td><td>str</td><td>str</td><td>str</td><td>i64</td><td>i64</td><td>i64</td><td>i64</td><td>i64</td><td>i64</td><td>i64</td><td>i64</td><td>str</td><td>str</td><td>str</td><td>str</td><td>str</td><td>i64</td><td>str</td><td>str</td><td>str</td><td>str</td><td>str</td></tr></thead><tbody><tr><td>&quot;2021-09-11T00:…</td><td>&quot;2:39&quot;</td><td>null</td><td>null</td><td>null</td><td>null</td><td>null</td><td>&quot;WHITESTONE EXP…</td><td>&quot;20 AVENUE&quot;</td><td>null</td><td>2</td><td>0</td><td>0</td><td>0</td><td>0</td><td>0</td><td>2</td><td>0</td><td>&quot;Aggressive Dri…</td><td>&quot;Unspecified&quot;</td><td>null</td><td>null</td><td>null</td><td>4455765</td><td>&quot;Sedan&quot;</td><td>&quot;Sedan&quot;</td><td>null</td><td>null</td><td>null</td></tr><tr><td>&quot;2022-03-26T00:…</td><td>&quot;11:45&quot;</td><td>null</td><td>null</td><td>null</td><td>null</td><td>null</td><td>&quot;QUEENSBORO BRI…</td><td>null</td><td>null</td><td>1</td><td>0</td><td>0</td><td>0</td><td>0</td><td>0</td><td>1</td><td>0</td><td>&quot;Pavement Slipp…</td><td>null</td><td>null</td><td>null</td><td>null</td><td>4513547</td><td>&quot;Sedan&quot;</td><td>null</td><td>null</td><td>null</td><td>null</td></tr><tr><td>&quot;2022-06-29T00:…</td><td>&quot;6:55&quot;</td><td>null</td><td>null</td><td>null</td><td>null</td><td>null</td><td>&quot;THROGS NECK BR…</td><td>null</td><td>null</td><td>0</td><td>0</td><td>0</td><td>0</td><td>0</td><td>0</td><td>0</td><td>0</td><td>&quot;Following Too …</td><td>&quot;Unspecified&quot;</td><td>null</td><td>null</td><td>null</td><td>4541903</td><td>&quot;Sedan&quot;</td><td>&quot;Pick-up Truck&quot;</td><td>null</td><td>null</td><td>null</td></tr><tr><td>&quot;2021-09-11T00:…</td><td>&quot;9:35&quot;</td><td>&quot;BROOKLYN&quot;</td><td>11208</td><td>40.667202</td><td>-73.8665</td><td>&quot;\n",
              ",  \n",
              "(40.66720…</td><td>null</td><td>null</td><td>&quot;1211      LORI…</td><td>0</td><td>0</td><td>0</td><td>0</td><td>0</td><td>0</td><td>0</td><td>0</td><td>&quot;Unspecified&quot;</td><td>null</td><td>null</td><td>null</td><td>null</td><td>4456314</td><td>&quot;Sedan&quot;</td><td>null</td><td>null</td><td>null</td><td>null</td></tr><tr><td>&quot;2021-12-14T00:…</td><td>&quot;8:13&quot;</td><td>&quot;BROOKLYN&quot;</td><td>11233</td><td>40.683304</td><td>-73.917274</td><td>&quot;\n",
              ",  \n",
              "(40.68330…</td><td>&quot;SARATOGA AVENU…</td><td>&quot;DECATUR STREET…</td><td>null</td><td>0</td><td>0</td><td>0</td><td>0</td><td>0</td><td>0</td><td>0</td><td>0</td><td>null</td><td>null</td><td>null</td><td>null</td><td>null</td><td>4486609</td><td>null</td><td>null</td><td>null</td><td>null</td><td>null</td></tr></tbody></table></div>"
            ]
          },
          "metadata": {},
          "execution_count": 92
        }
      ]
    },
    {
      "cell_type": "code",
      "source": [
        "ny_df.shape"
      ],
      "metadata": {
        "colab": {
          "base_uri": "https://localhost:8080/"
        },
        "id": "FBlFe3q7GsNx",
        "outputId": "a0f3c090-beb4-49fa-a445-c5c53bc95d4d"
      },
      "execution_count": null,
      "outputs": [
        {
          "output_type": "execute_result",
          "data": {
            "text/plain": [
              "(2000000, 29)"
            ]
          },
          "metadata": {},
          "execution_count": 93
        }
      ]
    },
    {
      "cell_type": "code",
      "source": [
        "ny_df.null_count()"
      ],
      "metadata": {
        "colab": {
          "base_uri": "https://localhost:8080/",
          "height": 149
        },
        "id": "RkJGD3XDHHEQ",
        "outputId": "d6ab5edb-285f-4957-c448-84a3c9e61ba3"
      },
      "execution_count": null,
      "outputs": [
        {
          "output_type": "execute_result",
          "data": {
            "text/plain": [
              "shape: (1, 29)\n",
              "┌──────────┬──────────┬─────────┬──────────┬───┬────────────┬────────────┬────────────┬────────────┐\n",
              "│ crash_da ┆ crash_ti ┆ borough ┆ zip_code ┆ … ┆ vehicle_ty ┆ vehicle_ty ┆ vehicle_ty ┆ vehicle_ty │\n",
              "│ te       ┆ me       ┆ ---     ┆ ---      ┆   ┆ pe_code2   ┆ pe_code_3  ┆ pe_code_4  ┆ pe_code_5  │\n",
              "│ ---      ┆ ---      ┆ u32     ┆ u32      ┆   ┆ ---        ┆ ---        ┆ ---        ┆ ---        │\n",
              "│ u32      ┆ u32      ┆         ┆          ┆   ┆ u32        ┆ u32        ┆ u32        ┆ u32        │\n",
              "╞══════════╪══════════╪═════════╪══════════╪═══╪════════════╪════════════╪════════════╪════════════╡\n",
              "│ 0        ┆ 0        ┆ 621866  ┆ 622145   ┆ … ┆ 371029     ┆ 1863513    ┆ 1969418    ┆ 1991740    │\n",
              "└──────────┴──────────┴─────────┴──────────┴───┴────────────┴────────────┴────────────┴────────────┘"
            ],
            "text/html": [
              "<div><style>\n",
              ".dataframe > thead > tr > th,\n",
              ".dataframe > tbody > tr > td {\n",
              "  text-align: right;\n",
              "}\n",
              "</style>\n",
              "<small>shape: (1, 29)</small><table border=\"1\" class=\"dataframe\"><thead><tr><th>crash_date</th><th>crash_time</th><th>borough</th><th>zip_code</th><th>latitude</th><th>longitude</th><th>location</th><th>on_street_name</th><th>off_street_name</th><th>cross_street_name</th><th>number_of_persons_injured</th><th>number_of_persons_killed</th><th>number_of_pedestrians_injured</th><th>number_of_pedestrians_killed</th><th>number_of_cyclist_injured</th><th>number_of_cyclist_killed</th><th>number_of_motorist_injured</th><th>number_of_motorist_killed</th><th>contributing_factor_vehicle_1</th><th>contributing_factor_vehicle_2</th><th>contributing_factor_vehicle_3</th><th>contributing_factor_vehicle_4</th><th>contributing_factor_vehicle_5</th><th>collision_id</th><th>vehicle_type_code1</th><th>vehicle_type_code2</th><th>vehicle_type_code_3</th><th>vehicle_type_code_4</th><th>vehicle_type_code_5</th></tr><tr><td>u32</td><td>u32</td><td>u32</td><td>u32</td><td>u32</td><td>u32</td><td>u32</td><td>u32</td><td>u32</td><td>u32</td><td>u32</td><td>u32</td><td>u32</td><td>u32</td><td>u32</td><td>u32</td><td>u32</td><td>u32</td><td>u32</td><td>u32</td><td>u32</td><td>u32</td><td>u32</td><td>u32</td><td>u32</td><td>u32</td><td>u32</td><td>u32</td><td>u32</td></tr></thead><tbody><tr><td>0</td><td>0</td><td>621866</td><td>622145</td><td>228209</td><td>228209</td><td>228209</td><td>419689</td><td>745875</td><td>1672684</td><td>18</td><td>31</td><td>0</td><td>0</td><td>0</td><td>0</td><td>0</td><td>0</td><td>6244</td><td>303889</td><td>1858645</td><td>1968380</td><td>1991490</td><td>0</td><td>12406</td><td>371029</td><td>1863513</td><td>1969418</td><td>1991740</td></tr></tbody></table></div>"
            ]
          },
          "metadata": {},
          "execution_count": 94
        }
      ]
    },
    {
      "cell_type": "code",
      "source": [
        "ny_df = ny_df.drop([\n",
        "    'contributing_factor_vehicle_2', 'contributing_factor_vehicle_3', 'contributing_factor_vehicle_4',\n",
        "    'contributing_factor_vehicle_5', 'vehicle_type_code2', 'vehicle_type_code_3', 'vehicle_type_code_4',\n",
        "    'vehicle_type_code_5','cross_street_name', 'off_street_name', 'location'\n",
        "  ])\n",
        "ny_df.shape"
      ],
      "metadata": {
        "colab": {
          "base_uri": "https://localhost:8080/"
        },
        "id": "0QfjQyzNHKdL",
        "outputId": "b9b27115-43eb-4a2d-b642-40ebc70925e1"
      },
      "execution_count": null,
      "outputs": [
        {
          "output_type": "execute_result",
          "data": {
            "text/plain": [
              "(2000000, 19)"
            ]
          },
          "metadata": {},
          "execution_count": 95
        }
      ]
    },
    {
      "cell_type": "code",
      "source": [
        "ny_df.null_count()"
      ],
      "metadata": {
        "colab": {
          "base_uri": "https://localhost:8080/",
          "height": 149
        },
        "id": "CJgnAoInIorz",
        "outputId": "4b9d1ccc-ad82-4641-fee2-47f7a50a0031"
      },
      "execution_count": null,
      "outputs": [
        {
          "output_type": "execute_result",
          "data": {
            "text/plain": [
              "shape: (1, 19)\n",
              "┌──────────┬──────────┬─────────┬──────────┬───┬────────────┬────────────┬────────────┬────────────┐\n",
              "│ crash_da ┆ crash_ti ┆ borough ┆ zip_code ┆ … ┆ number_of_ ┆ contributi ┆ collision_ ┆ vehicle_ty │\n",
              "│ te       ┆ me       ┆ ---     ┆ ---      ┆   ┆ motorist_k ┆ ng_factor_ ┆ id         ┆ pe_code1   │\n",
              "│ ---      ┆ ---      ┆ u32     ┆ u32      ┆   ┆ illed      ┆ vehicle_1  ┆ ---        ┆ ---        │\n",
              "│ u32      ┆ u32      ┆         ┆          ┆   ┆ ---        ┆ ---        ┆ u32        ┆ u32        │\n",
              "│          ┆          ┆         ┆          ┆   ┆ u32        ┆ u32        ┆            ┆            │\n",
              "╞══════════╪══════════╪═════════╪══════════╪═══╪════════════╪════════════╪════════════╪════════════╡\n",
              "│ 0        ┆ 0        ┆ 621866  ┆ 622145   ┆ … ┆ 0          ┆ 6244       ┆ 0          ┆ 12406      │\n",
              "└──────────┴──────────┴─────────┴──────────┴───┴────────────┴────────────┴────────────┴────────────┘"
            ],
            "text/html": [
              "<div><style>\n",
              ".dataframe > thead > tr > th,\n",
              ".dataframe > tbody > tr > td {\n",
              "  text-align: right;\n",
              "}\n",
              "</style>\n",
              "<small>shape: (1, 19)</small><table border=\"1\" class=\"dataframe\"><thead><tr><th>crash_date</th><th>crash_time</th><th>borough</th><th>zip_code</th><th>latitude</th><th>longitude</th><th>location</th><th>on_street_name</th><th>number_of_persons_injured</th><th>number_of_persons_killed</th><th>number_of_pedestrians_injured</th><th>number_of_pedestrians_killed</th><th>number_of_cyclist_injured</th><th>number_of_cyclist_killed</th><th>number_of_motorist_injured</th><th>number_of_motorist_killed</th><th>contributing_factor_vehicle_1</th><th>collision_id</th><th>vehicle_type_code1</th></tr><tr><td>u32</td><td>u32</td><td>u32</td><td>u32</td><td>u32</td><td>u32</td><td>u32</td><td>u32</td><td>u32</td><td>u32</td><td>u32</td><td>u32</td><td>u32</td><td>u32</td><td>u32</td><td>u32</td><td>u32</td><td>u32</td><td>u32</td></tr></thead><tbody><tr><td>0</td><td>0</td><td>621866</td><td>622145</td><td>228209</td><td>228209</td><td>228209</td><td>419689</td><td>18</td><td>31</td><td>0</td><td>0</td><td>0</td><td>0</td><td>0</td><td>0</td><td>6244</td><td>0</td><td>12406</td></tr></tbody></table></div>"
            ]
          },
          "metadata": {},
          "execution_count": 97
        }
      ]
    },
    {
      "cell_type": "code",
      "source": [
        "data = ny_df.drop_nulls()\n",
        "data.shape"
      ],
      "metadata": {
        "colab": {
          "base_uri": "https://localhost:8080/"
        },
        "id": "fstU4UhsJ8vx",
        "outputId": "21874262-ab32-4f60-9396-6516fd3d211a"
      },
      "execution_count": null,
      "outputs": [
        {
          "output_type": "execute_result",
          "data": {
            "text/plain": [
              "(1046910, 19)"
            ]
          },
          "metadata": {},
          "execution_count": 99
        }
      ]
    },
    {
      "cell_type": "code",
      "source": [
        "data.head()"
      ],
      "metadata": {
        "colab": {
          "base_uri": "https://localhost:8080/",
          "height": 361
        },
        "id": "WndEgHwWKHdm",
        "outputId": "1fd04c68-f8b0-4e21-bf43-6820f060bc70"
      },
      "execution_count": null,
      "outputs": [
        {
          "output_type": "execute_result",
          "data": {
            "text/plain": [
              "shape: (5, 19)\n",
              "┌──────────┬──────────┬───────────┬──────────┬───┬────────────┬────────────┬────────────┬────────────┐\n",
              "│ crash_da ┆ crash_ti ┆ borough   ┆ zip_code ┆ … ┆ number_of_ ┆ contributi ┆ collision_ ┆ vehicle_ty │\n",
              "│ te       ┆ me       ┆ ---       ┆ ---      ┆   ┆ motorist_k ┆ ng_factor_ ┆ id         ┆ pe_code1   │\n",
              "│ ---      ┆ ---      ┆ str       ┆ i64      ┆   ┆ illed      ┆ vehicle_1  ┆ ---        ┆ ---        │\n",
              "│ str      ┆ str      ┆           ┆          ┆   ┆ ---        ┆ ---        ┆ i64        ┆ str        │\n",
              "│          ┆          ┆           ┆          ┆   ┆ i64        ┆ str        ┆            ┆            │\n",
              "╞══════════╪══════════╪═══════════╪══════════╪═══╪════════════╪════════════╪════════════╪════════════╡\n",
              "│ 2021-12- ┆ 14:58    ┆ MANHATTAN ┆ 10017    ┆ … ┆ 0          ┆ Passing    ┆ 4486519    ┆ Sedan      │\n",
              "│ 14T00:00 ┆          ┆           ┆          ┆   ┆            ┆ Too        ┆            ┆            │\n",
              "│ :00.000  ┆          ┆           ┆          ┆   ┆            ┆ Closely    ┆            ┆            │\n",
              "│ 2021-12- ┆ 16:50    ┆ QUEENS    ┆ 11413    ┆ … ┆ 0          ┆ Turning    ┆ 4487127    ┆ Sedan      │\n",
              "│ 14T00:00 ┆          ┆           ┆          ┆   ┆            ┆ Improperly ┆            ┆            │\n",
              "│ :00.000  ┆          ┆           ┆          ┆   ┆            ┆            ┆            ┆            │\n",
              "│ 2021-12- ┆ 23:10    ┆ QUEENS    ┆ 11434    ┆ … ┆ 0          ┆ Reaction   ┆ 4486635    ┆ Sedan      │\n",
              "│ 14T00:00 ┆          ┆           ┆          ┆   ┆            ┆ to         ┆            ┆            │\n",
              "│ :00.000  ┆          ┆           ┆          ┆   ┆            ┆ Uninvolved ┆            ┆            │\n",
              "│          ┆          ┆           ┆          ┆   ┆            ┆ Vehicle    ┆            ┆            │\n",
              "│ 2021-12- ┆ 19:43    ┆ BRONX     ┆ 10463    ┆ … ┆ 0          ┆ Unspecifie ┆ 4487040    ┆ Station    │\n",
              "│ 11T00:00 ┆          ┆           ┆          ┆   ┆            ┆ d          ┆            ┆ Wagon/Spor │\n",
              "│ :00.000  ┆          ┆           ┆          ┆   ┆            ┆            ┆            ┆ t Utility  │\n",
              "│          ┆          ┆           ┆          ┆   ┆            ┆            ┆            ┆ Vehi…      │\n",
              "│ 2021-12- ┆ 6:30     ┆ QUEENS    ┆ 11372    ┆ … ┆ 0          ┆ Unspecifie ┆ 4486967    ┆ Sedan      │\n",
              "│ 13T00:00 ┆          ┆           ┆          ┆   ┆            ┆ d          ┆            ┆            │\n",
              "│ :00.000  ┆          ┆           ┆          ┆   ┆            ┆            ┆            ┆            │\n",
              "└──────────┴──────────┴───────────┴──────────┴───┴────────────┴────────────┴────────────┴────────────┘"
            ],
            "text/html": [
              "<div><style>\n",
              ".dataframe > thead > tr > th,\n",
              ".dataframe > tbody > tr > td {\n",
              "  text-align: right;\n",
              "}\n",
              "</style>\n",
              "<small>shape: (5, 19)</small><table border=\"1\" class=\"dataframe\"><thead><tr><th>crash_date</th><th>crash_time</th><th>borough</th><th>zip_code</th><th>latitude</th><th>longitude</th><th>location</th><th>on_street_name</th><th>number_of_persons_injured</th><th>number_of_persons_killed</th><th>number_of_pedestrians_injured</th><th>number_of_pedestrians_killed</th><th>number_of_cyclist_injured</th><th>number_of_cyclist_killed</th><th>number_of_motorist_injured</th><th>number_of_motorist_killed</th><th>contributing_factor_vehicle_1</th><th>collision_id</th><th>vehicle_type_code1</th></tr><tr><td>str</td><td>str</td><td>str</td><td>i64</td><td>f64</td><td>f64</td><td>str</td><td>str</td><td>i64</td><td>i64</td><td>i64</td><td>i64</td><td>i64</td><td>i64</td><td>i64</td><td>i64</td><td>str</td><td>i64</td><td>str</td></tr></thead><tbody><tr><td>&quot;2021-12-14T00:…</td><td>&quot;14:58&quot;</td><td>&quot;MANHATTAN&quot;</td><td>10017</td><td>40.75144</td><td>-73.97397</td><td>&quot;\n",
              ",  \n",
              "(40.75144…</td><td>&quot;3 AVENUE&quot;</td><td>0</td><td>0</td><td>0</td><td>0</td><td>0</td><td>0</td><td>0</td><td>0</td><td>&quot;Passing Too Cl…</td><td>4486519</td><td>&quot;Sedan&quot;</td></tr><tr><td>&quot;2021-12-14T00:…</td><td>&quot;16:50&quot;</td><td>&quot;QUEENS&quot;</td><td>11413</td><td>40.675884</td><td>-73.75577</td><td>&quot;\n",
              ",  \n",
              "(40.67588…</td><td>&quot;SPRINGFIELD BO…</td><td>0</td><td>0</td><td>0</td><td>0</td><td>0</td><td>0</td><td>0</td><td>0</td><td>&quot;Turning Improp…</td><td>4487127</td><td>&quot;Sedan&quot;</td></tr><tr><td>&quot;2021-12-14T00:…</td><td>&quot;23:10&quot;</td><td>&quot;QUEENS&quot;</td><td>11434</td><td>40.66684</td><td>-73.78941</td><td>&quot;\n",
              ",  \n",
              "(40.66684…</td><td>&quot;NORTH CONDUIT …</td><td>2</td><td>0</td><td>0</td><td>0</td><td>0</td><td>0</td><td>2</td><td>0</td><td>&quot;Reaction to Un…</td><td>4486635</td><td>&quot;Sedan&quot;</td></tr><tr><td>&quot;2021-12-11T00:…</td><td>&quot;19:43&quot;</td><td>&quot;BRONX&quot;</td><td>10463</td><td>40.87262</td><td>-73.904686</td><td>&quot;\n",
              ",  \n",
              "(40.87262…</td><td>&quot;WEST KINGSBRID…</td><td>1</td><td>0</td><td>0</td><td>0</td><td>0</td><td>0</td><td>1</td><td>0</td><td>&quot;Unspecified&quot;</td><td>4487040</td><td>&quot;Station Wagon/…</td></tr><tr><td>&quot;2021-12-13T00:…</td><td>&quot;6:30&quot;</td><td>&quot;QUEENS&quot;</td><td>11372</td><td>40.75373</td><td>-73.88505</td><td>&quot;\n",
              ",  \n",
              "(40.75373…</td><td>&quot;82 STREET&quot;</td><td>0</td><td>0</td><td>0</td><td>0</td><td>0</td><td>0</td><td>0</td><td>0</td><td>&quot;Unspecified&quot;</td><td>4486967</td><td>&quot;Sedan&quot;</td></tr></tbody></table></div>"
            ]
          },
          "metadata": {},
          "execution_count": 108
        }
      ]
    },
    {
      "cell_type": "code",
      "source": [
        "data = data.with_columns(pl.col(\"crash_date\").str.rstrip(\"T00:00:00.000\").str.strptime(pl.Date))"
      ],
      "metadata": {
        "id": "RNRFGy1mLHtP"
      },
      "execution_count": null,
      "outputs": []
    },
    {
      "cell_type": "code",
      "source": [
        "data = data.with_columns(pl.col('crash_time').str.strptime(pl.Time, '%R'))"
      ],
      "metadata": {
        "id": "uAyvRuEJLmfb"
      },
      "execution_count": null,
      "outputs": []
    },
    {
      "cell_type": "code",
      "source": [
        "data = data.to_pandas()"
      ],
      "metadata": {
        "id": "5bepkDtPokQL"
      },
      "execution_count": null,
      "outputs": []
    },
    {
      "cell_type": "code",
      "source": [
        "data.to_csv('nypd-cleaned.csv')"
      ],
      "metadata": {
        "id": "JrUfra44_LYt"
      },
      "execution_count": null,
      "outputs": []
    }
  ]
}